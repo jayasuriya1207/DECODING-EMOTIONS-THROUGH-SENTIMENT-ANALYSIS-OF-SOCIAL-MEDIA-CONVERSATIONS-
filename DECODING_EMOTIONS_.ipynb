{
  "nbformat": 4,
  "nbformat_minor": 0,
  "metadata": {
    "colab": {
      "provenance": [],
      "authorship_tag": "ABX9TyPULrke6qb7lSeRggyRsjkY",
      "include_colab_link": true
    },
    "kernelspec": {
      "name": "python3",
      "display_name": "Python 3"
    },
    "language_info": {
      "name": "python"
    }
  },
  "cells": [
    {
      "cell_type": "markdown",
      "metadata": {
        "id": "view-in-github",
        "colab_type": "text"
      },
      "source": [
        "<a href=\"https://colab.research.google.com/github/jayasuriya1207/DECODING-EMOTIONS-THROUGH-SENTIMENT-ANALYSIS-OF-SOCIAL-MEDIA-CONVERSATIONS-/blob/main/DECODING_EMOTIONS_.ipynb\" target=\"_parent\"><img src=\"https://colab.research.google.com/assets/colab-badge.svg\" alt=\"Open In Colab\"/></a>"
      ]
    },
    {
      "cell_type": "code",
      "execution_count": null,
      "metadata": {
        "id": "R9hZhTW1OiHA"
      },
      "outputs": [],
      "source": [
        "import tweepy\n",
        "import pandas as pd\n",
        "from transformers import AutoTokenizer, AutoModelForSequenceClassification\n",
        "from transformers import pipeline\n",
        "\n",
        "# ========== 1. Twitter API Authentication ==========\n",
        "def authenticate_twitter(api_key, api_secret, access_token, access_token_secret):\n",
        "    auth = tweepy.OAuth1UserHandler(api_key, api_secret, access_token, access_token_secret)\n",
        "    return tweepy.API(auth)\n",
        "\n",
        "# ========== 2. Fetch Tweets ==========\n",
        "def fetch_tweets(api, keyword, count=50):\n",
        "    tweets = api.search_tweets(q=keyword, lang=\"en\", count=count, tweet_mode='extended')\n",
        "    return [tweet.full_text for tweet in tweets]\n",
        "\n",
        "# ========== 3. Load Emotion Detection Pipeline ==========\n",
        "def load_emotion_model():\n",
        "    model_name = \"nateraw/bert-base-uncased-emotion\"\n",
        "    return pipeline(\"text-classification\", model=model_name, tokenizer=model_name, return_all_scores=False)\n",
        "\n",
        "# ========== 4. Analyze Emotions ==========\n",
        "def analyze_emotions(tweets, emotion_pipeline):\n",
        "    emotions = []\n",
        "    for text in tweets:\n",
        "        result = emotion_pipeline(text[:512])[0]  # Truncate long tweets\n",
        "        emotions.append({'text': text, 'emotion': result['label'], 'score': result['score']})\n",
        "    return pd.DataFrame(emotions)\n",
        "\n",
        "# ========== 5. Main Function ==========\n",
        "def main():\n",
        "    # Replace with your credentials\n",
        "    api_key = \"YOUR_API_KEY\"\n",
        "    api_secret = \"YOUR_API_SECRET\"\n",
        "    access_token = \"YOUR_ACCESS_TOKEN\"\n",
        "    access_token_secret = \"YOUR_ACCESS_TOKEN_SECRET\"\n",
        "\n",
        "    keyword = \"mental health\"  # Topic to search tweets about\n",
        "    count = 20\n",
        "\n",
        "    # Authenticate and fetch tweets\n",
        "    api = authenticate_twitter(api_key, api_secret, access_token, access_token_secret)\n",
        "    tweets = fetch_tweets(api, keyword, count)\n",
        "\n",
        "    # Load model and analyze\n",
        "    emotion_pipeline = load_emotion_model()\n",
        "    results_df = analyze_emotions(tweets, emotion_pipeline)\n",
        "\n",
        "    # Show results\n",
        "    print(results_df)\n",
        "\n",
        "if __name__ == \"__main__\":\n",
        "    main()\n"
      ]
    }
  ]
}